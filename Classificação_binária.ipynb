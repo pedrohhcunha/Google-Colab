{
  "nbformat": 4,
  "nbformat_minor": 0,
  "metadata": {
    "colab": {
      "name": "Classificação binária",
      "provenance": [],
      "collapsed_sections": [],
      "authorship_tag": "ABX9TyPmgAB1XwzohdlEcsKZmhZV",
      "include_colab_link": true
    },
    "kernelspec": {
      "name": "python3",
      "display_name": "Python 3"
    },
    "language_info": {
      "name": "python"
    }
  },
  "cells": [
    {
      "cell_type": "markdown",
      "metadata": {
        "id": "view-in-github",
        "colab_type": "text"
      },
      "source": [
        "<a href=\"https://colab.research.google.com/github/pedrohhcunha/Google-Colab/blob/main/Classifica%C3%A7%C3%A3o_bin%C3%A1ria.ipynb\" target=\"_parent\"><img src=\"https://colab.research.google.com/assets/colab-badge.svg\" alt=\"Open In Colab\"/></a>"
      ]
    },
    {
      "cell_type": "markdown",
      "source": [
        "# Classificação binária\n",
        "Classificando animais entre porco e cachorro:\n",
        "Porco = 1;\n",
        "Cachorro = 0;\n",
        "\n",
        "- Quanto mais dados mostrando, em tese melhor a assertividade.\n",
        "- A classificação se dá atraves das caracteristicas dos animais\n",
        "\n",
        "Caracteristicas a serem interpretadas:\n",
        "Animal tem pelo longo? Sim ou não.\n",
        "Aniaml tem perna curta? Sim ou não.\n",
        "Animal faz au au Sim ou não.\n",
        "\n",
        "# Criando uma base de dados de animais:\n",
        "Definindo um objeto que contem dois atributos(values e responses) que contém respectivamente uma lista que contém as caracteristicas de cada animal e uma lista que contém qual animal é para cada caracteristica."
      ],
      "metadata": {
        "id": "RouMagOpvw7o"
      }
    },
    {
      "cell_type": "code",
      "execution_count": 1,
      "metadata": {
        "id": "TaZHVJh5vkWS"
      },
      "outputs": [],
      "source": [
        "train = {\n",
        "    'x': [[0, 1, 0], [0, 1, 1], [1, 1, 0], [0, 1, 1], [1, 0, 1], [1, 1, 1]],\n",
        "    'y': [1, 1, 1, 0, 0, 0]\n",
        "}"
      ]
    },
    {
      "cell_type": "markdown",
      "source": [
        "# Treinando um algoritmo\n",
        "Depois de definidos nossos dados de teste, é hora de testar de fato nosso algoritmo."
      ],
      "metadata": {
        "id": "EOpBBWOxyiyi"
      }
    },
    {
      "cell_type": "code",
      "source": [
        "from sklearn.svm import LinearSVC\n",
        "\n",
        "model = LinearSVC()\n",
        "model.fit(train[\"x\"], train[\"y\"])"
      ],
      "metadata": {
        "colab": {
          "base_uri": "https://localhost:8080/"
        },
        "id": "a7bx9-BW0uaM",
        "outputId": "ae270d3c-9d9f-4769-c9f3-914992ec09b6"
      },
      "execution_count": 5,
      "outputs": [
        {
          "output_type": "execute_result",
          "data": {
            "text/plain": [
              "LinearSVC()"
            ]
          },
          "metadata": {},
          "execution_count": 5
        }
      ]
    },
    {
      "cell_type": "markdown",
      "source": [
        "# Identificando animais\n",
        "Com um algoritmo de classificação treinado, vamos utilizá-lo para identificar qual a classe de algums animais misteriosos."
      ],
      "metadata": {
        "id": "bdBQnlqK1qMi"
      }
    },
    {
      "cell_type": "code",
      "source": [
        "test_x = [[1, 1, 1], [1, 1, 0], [0, 1, 1]]\n",
        "model.predict(test_x)"
      ],
      "metadata": {
        "colab": {
          "base_uri": "https://localhost:8080/"
        },
        "id": "2_yPXFfu187-",
        "outputId": "e7d73010-34fc-4996-9597-df2554992b4c"
      },
      "execution_count": 6,
      "outputs": [
        {
          "output_type": "execute_result",
          "data": {
            "text/plain": [
              "array([0, 1, 0])"
            ]
          },
          "metadata": {},
          "execution_count": 6
        }
      ]
    },
    {
      "cell_type": "markdown",
      "source": [
        "# Como medir o desempenho de um algoritmo?\n",
        "Vamos entender em relação ao numero de animais mostrados ao algoritmo, quantos foram classificados de maneira correta. Assim obtendo a assertivdade do algoritmos.\n",
        "\n",
        "Para isso precisamos comparar a espectativa com a realidade, ou seja o que esperamos que as nossas entradas retornem e o que de fato nosso algoritmo retornou."
      ],
      "metadata": {
        "id": "tZiXwKbs0uuF"
      }
    },
    {
      "cell_type": "code",
      "source": [
        "test_y = [0, 1, 1]\n",
        "predicted = model.predict(test_x)\n",
        "correct = test_y == predicted\n",
        "correctCount = correct.sum()\n",
        "accuracy = correctCount / len(predicted) * 100\n",
        "accuracy"
      ],
      "metadata": {
        "colab": {
          "base_uri": "https://localhost:8080/"
        },
        "id": "M1BzU1Rg5D9v",
        "outputId": "e0967081-1f5f-491e-b295-3d59101e2a72"
      },
      "execution_count": 7,
      "outputs": [
        {
          "output_type": "execute_result",
          "data": {
            "text/plain": [
              "66.66666666666666"
            ]
          },
          "metadata": {},
          "execution_count": 7
        }
      ]
    },
    {
      "cell_type": "markdown",
      "source": [
        "### ou"
      ],
      "metadata": {
        "id": "S4Xw185H7QU_"
      }
    },
    {
      "cell_type": "code",
      "source": [
        "from sklearn.metrics import accuracy_score\n",
        "\n",
        "accuracy = accuracy_score(test_y, predicted) * 100\n",
        "\n",
        "accuracy"
      ],
      "metadata": {
        "colab": {
          "base_uri": "https://localhost:8080/"
        },
        "id": "T5jQpSKs7Rpi",
        "outputId": "a9c591e6-87d5-408e-cafb-b6bdbccab1c1"
      },
      "execution_count": 8,
      "outputs": [
        {
          "output_type": "execute_result",
          "data": {
            "text/plain": [
              "66.66666666666666"
            ]
          },
          "metadata": {},
          "execution_count": 8
        }
      ]
    }
  ]
}