{
  "nbformat": 4,
  "nbformat_minor": 0,
  "metadata": {
    "colab": {
      "name": "Classificação binária - Intenção de compra",
      "provenance": [],
      "collapsed_sections": [],
      "authorship_tag": "ABX9TyMsdxuJzZBG/H6EX4LqOnN4",
      "include_colab_link": true
    },
    "kernelspec": {
      "name": "python3",
      "display_name": "Python 3"
    },
    "language_info": {
      "name": "python"
    }
  },
  "cells": [
    {
      "cell_type": "markdown",
      "metadata": {
        "id": "view-in-github",
        "colab_type": "text"
      },
      "source": [
        "<a href=\"https://colab.research.google.com/github/pedrohhcunha/Google-Colab/blob/main/Classifica%C3%A7%C3%A3o_bin%C3%A1ria_Inten%C3%A7%C3%A3o_de_compra.ipynb\" target=\"_parent\"><img src=\"https://colab.research.google.com/assets/colab-badge.svg\" alt=\"Open In Colab\"/></a>"
      ]
    },
    {
      "cell_type": "markdown",
      "source": [
        "# Classificação binária - Intenção de compra\n",
        "\n",
        "Predizendo se um usuário vai ou não comprar com base nas páginas que este acessou!"
      ],
      "metadata": {
        "id": "2AA0w7sN2x7Y"
      }
    },
    {
      "cell_type": "markdown",
      "source": [
        "## Entendendo os dados \n",
        "Como visto anteriormente o objetivo deste algoritmos será predizer se um determinado usuário irá realizar a compra de um produto com base nas páginas do site que este acessou!\n",
        "\n",
        "Por tanto o usuário tera 3 página possiveis para acessar, e a ordem delas não importa: <br />\n",
        "home, how_it_works, contact\n",
        "\n",
        "Portanto para treinar e testar o nosso algoritmo vamos usar uma base de dados csv que vai nos retornar multiplas linhas onde cada uma representa os dados de um usuário: <br />\n",
        "home, how_it_works, contact, bought\n"
      ],
      "metadata": {
        "id": "ZNet2pzH3DHz"
      }
    },
    {
      "cell_type": "markdown",
      "source": [
        "## Importando nossos dados\n",
        "Para obter nossos dados, vamos utilizar um arquivo.csv disponivél na WEB. Para ler este arquivo e o transformar em um dataframe vamos utilizar uma biblioteca amplamente conhecida pela comunidade de cientistas de dados, o PANDAS."
      ],
      "metadata": {
        "id": "l3RkA0yZ5Xmv"
      }
    },
    {
      "cell_type": "code",
      "source": [
        "import pandas as pd\n",
        "url = \"https://gist.githubusercontent.com/guilhermesilveira/2d2efa37d66b6c84a722ea627a897ced/raw/10968b997d885cbded1c92938c7a9912ba41c615/tracking.csv\"\n",
        "data = pd.read_csv(url)\n",
        "data.head()"
      ],
      "metadata": {
        "colab": {
          "base_uri": "https://localhost:8080/",
          "height": 206
        },
        "id": "uJiOeK_f6U4D",
        "outputId": "76c451d7-18b1-4088-e5ee-564670a12014"
      },
      "execution_count": 24,
      "outputs": [
        {
          "output_type": "execute_result",
          "data": {
            "text/plain": [
              "   home  how_it_works  contact  bought\n",
              "0     1             1        0       0\n",
              "1     1             1        0       0\n",
              "2     1             1        0       0\n",
              "3     1             1        0       0\n",
              "4     1             1        0       0"
            ],
            "text/html": [
              "\n",
              "  <div id=\"df-3024610f-dca1-493b-b81f-707c34d2bb3c\">\n",
              "    <div class=\"colab-df-container\">\n",
              "      <div>\n",
              "<style scoped>\n",
              "    .dataframe tbody tr th:only-of-type {\n",
              "        vertical-align: middle;\n",
              "    }\n",
              "\n",
              "    .dataframe tbody tr th {\n",
              "        vertical-align: top;\n",
              "    }\n",
              "\n",
              "    .dataframe thead th {\n",
              "        text-align: right;\n",
              "    }\n",
              "</style>\n",
              "<table border=\"1\" class=\"dataframe\">\n",
              "  <thead>\n",
              "    <tr style=\"text-align: right;\">\n",
              "      <th></th>\n",
              "      <th>home</th>\n",
              "      <th>how_it_works</th>\n",
              "      <th>contact</th>\n",
              "      <th>bought</th>\n",
              "    </tr>\n",
              "  </thead>\n",
              "  <tbody>\n",
              "    <tr>\n",
              "      <th>0</th>\n",
              "      <td>1</td>\n",
              "      <td>1</td>\n",
              "      <td>0</td>\n",
              "      <td>0</td>\n",
              "    </tr>\n",
              "    <tr>\n",
              "      <th>1</th>\n",
              "      <td>1</td>\n",
              "      <td>1</td>\n",
              "      <td>0</td>\n",
              "      <td>0</td>\n",
              "    </tr>\n",
              "    <tr>\n",
              "      <th>2</th>\n",
              "      <td>1</td>\n",
              "      <td>1</td>\n",
              "      <td>0</td>\n",
              "      <td>0</td>\n",
              "    </tr>\n",
              "    <tr>\n",
              "      <th>3</th>\n",
              "      <td>1</td>\n",
              "      <td>1</td>\n",
              "      <td>0</td>\n",
              "      <td>0</td>\n",
              "    </tr>\n",
              "    <tr>\n",
              "      <th>4</th>\n",
              "      <td>1</td>\n",
              "      <td>1</td>\n",
              "      <td>0</td>\n",
              "      <td>0</td>\n",
              "    </tr>\n",
              "  </tbody>\n",
              "</table>\n",
              "</div>\n",
              "      <button class=\"colab-df-convert\" onclick=\"convertToInteractive('df-3024610f-dca1-493b-b81f-707c34d2bb3c')\"\n",
              "              title=\"Convert this dataframe to an interactive table.\"\n",
              "              style=\"display:none;\">\n",
              "        \n",
              "  <svg xmlns=\"http://www.w3.org/2000/svg\" height=\"24px\"viewBox=\"0 0 24 24\"\n",
              "       width=\"24px\">\n",
              "    <path d=\"M0 0h24v24H0V0z\" fill=\"none\"/>\n",
              "    <path d=\"M18.56 5.44l.94 2.06.94-2.06 2.06-.94-2.06-.94-.94-2.06-.94 2.06-2.06.94zm-11 1L8.5 8.5l.94-2.06 2.06-.94-2.06-.94L8.5 2.5l-.94 2.06-2.06.94zm10 10l.94 2.06.94-2.06 2.06-.94-2.06-.94-.94-2.06-.94 2.06-2.06.94z\"/><path d=\"M17.41 7.96l-1.37-1.37c-.4-.4-.92-.59-1.43-.59-.52 0-1.04.2-1.43.59L10.3 9.45l-7.72 7.72c-.78.78-.78 2.05 0 2.83L4 21.41c.39.39.9.59 1.41.59.51 0 1.02-.2 1.41-.59l7.78-7.78 2.81-2.81c.8-.78.8-2.07 0-2.86zM5.41 20L4 18.59l7.72-7.72 1.47 1.35L5.41 20z\"/>\n",
              "  </svg>\n",
              "      </button>\n",
              "      \n",
              "  <style>\n",
              "    .colab-df-container {\n",
              "      display:flex;\n",
              "      flex-wrap:wrap;\n",
              "      gap: 12px;\n",
              "    }\n",
              "\n",
              "    .colab-df-convert {\n",
              "      background-color: #E8F0FE;\n",
              "      border: none;\n",
              "      border-radius: 50%;\n",
              "      cursor: pointer;\n",
              "      display: none;\n",
              "      fill: #1967D2;\n",
              "      height: 32px;\n",
              "      padding: 0 0 0 0;\n",
              "      width: 32px;\n",
              "    }\n",
              "\n",
              "    .colab-df-convert:hover {\n",
              "      background-color: #E2EBFA;\n",
              "      box-shadow: 0px 1px 2px rgba(60, 64, 67, 0.3), 0px 1px 3px 1px rgba(60, 64, 67, 0.15);\n",
              "      fill: #174EA6;\n",
              "    }\n",
              "\n",
              "    [theme=dark] .colab-df-convert {\n",
              "      background-color: #3B4455;\n",
              "      fill: #D2E3FC;\n",
              "    }\n",
              "\n",
              "    [theme=dark] .colab-df-convert:hover {\n",
              "      background-color: #434B5C;\n",
              "      box-shadow: 0px 1px 3px 1px rgba(0, 0, 0, 0.15);\n",
              "      filter: drop-shadow(0px 1px 2px rgba(0, 0, 0, 0.3));\n",
              "      fill: #FFFFFF;\n",
              "    }\n",
              "  </style>\n",
              "\n",
              "      <script>\n",
              "        const buttonEl =\n",
              "          document.querySelector('#df-3024610f-dca1-493b-b81f-707c34d2bb3c button.colab-df-convert');\n",
              "        buttonEl.style.display =\n",
              "          google.colab.kernel.accessAllowed ? 'block' : 'none';\n",
              "\n",
              "        async function convertToInteractive(key) {\n",
              "          const element = document.querySelector('#df-3024610f-dca1-493b-b81f-707c34d2bb3c');\n",
              "          const dataTable =\n",
              "            await google.colab.kernel.invokeFunction('convertToInteractive',\n",
              "                                                     [key], {});\n",
              "          if (!dataTable) return;\n",
              "\n",
              "          const docLinkHtml = 'Like what you see? Visit the ' +\n",
              "            '<a target=\"_blank\" href=https://colab.research.google.com/notebooks/data_table.ipynb>data table notebook</a>'\n",
              "            + ' to learn more about interactive tables.';\n",
              "          element.innerHTML = '';\n",
              "          dataTable['output_type'] = 'display_data';\n",
              "          await google.colab.output.renderOutput(dataTable, element);\n",
              "          const docLink = document.createElement('div');\n",
              "          docLink.innerHTML = docLinkHtml;\n",
              "          element.appendChild(docLink);\n",
              "        }\n",
              "      </script>\n",
              "    </div>\n",
              "  </div>\n",
              "  "
            ]
          },
          "metadata": {},
          "execution_count": 24
        }
      ]
    },
    {
      "cell_type": "markdown",
      "source": [
        "## Separando os dados entre inputs e outputs\n",
        "Para executar nosso algoritmos precisamos primeiramente separar os dados do nosso dataframe entre dados que serão inseridos e dados que serão dados como resposta. Para que assim possamos treinar e testar nosso algoritmos de classificação binário."
      ],
      "metadata": {
        "id": "bJMea7-P-rsK"
      }
    },
    {
      "cell_type": "code",
      "source": [
        "x = data[['home', 'how_it_works', 'contact']]\n",
        "y = data['bought']"
      ],
      "metadata": {
        "id": "2SX_IvCX7o-I"
      },
      "execution_count": 25,
      "outputs": []
    },
    {
      "cell_type": "markdown",
      "source": [
        "## Separando dados entre treino e teste\n",
        "Quanto mais dados tivermos para treinar nosso algoritmos melhor, no entanto não adianta de nada utilizar todos os nossos dados para treinar o algoritmo e depois não conseguir testá-lo.\n",
        "Desta forma, por convenção a comunidade considera 75% de dados para treino e 25% de dados para teste, um bom valor para começar."
      ],
      "metadata": {
        "id": "wAx-F5IuE7Wh"
      }
    },
    {
      "cell_type": "code",
      "source": [
        "from sklearn.model_selection import train_test_split\n",
        "train = {}\n",
        "test = {}\n",
        "train['x'], test['x'], train['y'], test['y'] = train_test_split(x, y, test_size = 0.25, random_state = 20, stratify = y)\n",
        "\n",
        "\n",
        "print(\"Separando %d items para treino e %d itens para teste!\" % (len(train['x']), len(test['x'])))"
      ],
      "metadata": {
        "colab": {
          "base_uri": "https://localhost:8080/"
        },
        "id": "yWc0qYp9Fc1L",
        "outputId": "297ae929-2682-45fe-cf32-11b809e7afb8"
      },
      "execution_count": 26,
      "outputs": [
        {
          "output_type": "stream",
          "name": "stdout",
          "text": [
            "Separando 74 items para treino e 25 itens para teste!\n"
          ]
        }
      ]
    },
    {
      "cell_type": "markdown",
      "source": [
        "## Agora é hoora de treinar\n",
        "Depois de obter nossos dados e tratá-los vamos utilizar o modelo LinearSVC para treinar um modelo de classificação de intenção de compra"
      ],
      "metadata": {
        "id": "GE_ANJ-2GiTj"
      }
    },
    {
      "cell_type": "code",
      "source": [
        "from sklearn.svm import LinearSVC\n",
        "\n",
        "model = LinearSVC()\n",
        "model.fit(train['x'], train['y'])\n",
        "predict = model.predict(test['x'])"
      ],
      "metadata": {
        "id": "_6V1ZXR6Guir"
      },
      "execution_count": 27,
      "outputs": []
    },
    {
      "cell_type": "markdown",
      "source": [
        "# Testando a efetividade.\n",
        "Usando do módulo accuracy_score para identificar a porcentagem de assertividade do nosso algoritmo."
      ],
      "metadata": {
        "id": "1q8bXNuDHcJL"
      }
    },
    {
      "cell_type": "code",
      "source": [
        "from sklearn.metrics import accuracy_score\n",
        "\n",
        "accuracy = accuracy_score(test['y'], predict)\n",
        "\n",
        "print('A assertividade do nosso algoritmo é de: %.2f%%' % (accuracy * 100))"
      ],
      "metadata": {
        "colab": {
          "base_uri": "https://localhost:8080/"
        },
        "id": "e6NxFJtoHGGm",
        "outputId": "e7820db1-8205-4b4a-9f05-fa36c161124e"
      },
      "execution_count": 28,
      "outputs": [
        {
          "output_type": "stream",
          "name": "stdout",
          "text": [
            "A assertividade do nosso algoritmo é de: 96.00%\n"
          ]
        }
      ]
    },
    {
      "cell_type": "code",
      "source": [
        ""
      ],
      "metadata": {
        "id": "GSM4DEQTKghP"
      },
      "execution_count": 28,
      "outputs": []
    }
  ]
}